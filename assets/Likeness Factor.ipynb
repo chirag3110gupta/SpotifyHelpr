{
 "cells": [
  {
   "cell_type": "code",
   "execution_count": null,
   "source": [
    "import pandas as pd\r\n",
    "from sklearn.cluster import KMeans\r\n",
    "import numpy as np"
   ],
   "outputs": [],
   "metadata": {}
  },
  {
   "cell_type": "code",
   "execution_count": null,
   "source": [
    "df = pd.read_csv(\"SpotifyFeatures.csv\")\r\n",
    "ids = df.track_id.tolist()\r\n",
    "\r\n",
    "# Get 1000 most popular songs\r\n",
    "df2 = df.drop_duplicates(subset=[\"track_id\"]).sort_values(\"popularity\",ascending=False).head(1000)\r\n",
    "df2.head(3)"
   ],
   "outputs": [],
   "metadata": {}
  },
  {
   "cell_type": "code",
   "execution_count": null,
   "source": [
    "track_ids = df2['track_id'].copy()\r\n",
    "print(track_ids)"
   ],
   "outputs": [],
   "metadata": {}
  },
  {
   "cell_type": "code",
   "execution_count": null,
   "source": [
    "df2.drop(['track_id', 'genre', 'artist_name', 'track_name', 'key', 'mode', 'time_signature'], axis=1, inplace=True)"
   ],
   "outputs": [],
   "metadata": {}
  },
  {
   "cell_type": "code",
   "execution_count": null,
   "source": [
    "X = np.array(df2)"
   ],
   "outputs": [],
   "metadata": {}
  },
  {
   "cell_type": "code",
   "execution_count": null,
   "source": [
    "k = KMeans(n_clusters=10, random_state=0).fit(X)"
   ],
   "outputs": [],
   "metadata": {}
  },
  {
   "cell_type": "code",
   "execution_count": null,
   "source": [
    "(unique, counts) = np.unique(k.labels_, return_counts=True)\r\n",
    "frequencies = np.asarray((unique, counts)).T"
   ],
   "outputs": [],
   "metadata": {}
  },
  {
   "cell_type": "code",
   "execution_count": null,
   "source": [
    "df2['track_id'] = track_ids\r\n",
    "df2['likeness_factor'] = k.labels_\r\n",
    "df2.astype({'likeness_factor': 'float64'})\r\n",
    "df2.head()"
   ],
   "outputs": [],
   "metadata": {}
  }
 ],
 "metadata": {
  "interpreter": {
   "hash": "fd021894311fc6ecb350d41b5f9ad0ba5dbd2a455558cf299f19c702323e1b01"
  },
  "kernelspec": {
   "name": "python3",
   "display_name": "Python 3.9.5 64-bit"
  },
  "language_info": {
   "codemirror_mode": {
    "name": "ipython",
    "version": 3
   },
   "file_extension": ".py",
   "mimetype": "text/x-python",
   "name": "python",
   "nbconvert_exporter": "python",
   "pygments_lexer": "ipython3",
   "version": "3.9.5"
  },
  "orig_nbformat": 4
 },
 "nbformat": 4,
 "nbformat_minor": 2
}