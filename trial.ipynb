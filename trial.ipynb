{
 "cells": [
  {
   "cell_type": "code",
   "execution_count": 1,
   "metadata": {},
   "outputs": [
    {
     "name": "stdout",
     "output_type": "stream",
     "text": [
      "Requirement already satisfied: mysql-connector-python in /Library/Frameworks/Python.framework/Versions/3.9/lib/python3.9/site-packages (8.0.26)\n",
      "Requirement already satisfied: protobuf>=3.0.0 in /Library/Frameworks/Python.framework/Versions/3.9/lib/python3.9/site-packages (from mysql-connector-python) (3.18.0)\n"
     ]
    }
   ],
   "source": [
    "# Install mysql module\n",
    "!pip3.9 install mysql-connector-python"
   ]
  },
  {
   "cell_type": "code",
   "execution_count": null,
   "metadata": {},
   "outputs": [],
   "source": [
    "# Make sure ur IP is on file\n",
    "!curl ipecho.net/plain\n"
   ]
  },
  {
   "cell_type": "code",
   "execution_count": 2,
   "metadata": {},
   "outputs": [],
   "source": [
    "# Connect to server\n",
    "import mysql.connector\n",
    "import random\n",
    "import pandas as pd\n",
    "\n",
    "mydb = mysql.connector.connect(\n",
    "    host=\"35.232.56.109\",\n",
    "    user=\"root\",\n",
    "    password=\"ah08EbAGxF04I503\",\n",
    "    database=\"SpotifyHelpr\"\n",
    ")\n",
    "\n",
    "mycursor = mydb.cursor()"
   ]
  },
  {
   "cell_type": "code",
   "execution_count": null,
   "metadata": {},
   "outputs": [],
   "source": [
    "# Load CSV\n",
    "df = pd.read_csv(\"assets/SpotifyFeatures.csv\")\n",
    "ids = df.track_id.tolist()\n",
    "\n",
    "# Get 1000 most popular songs\n",
    "df2 = df.drop_duplicates(subset=[\"track_id\"]).sort_values(\"popularity\",ascending=False)\n",
    "df2head = df2.head(1000)"
   ]
  },
  {
   "cell_type": "code",
   "execution_count": 3,
   "metadata": {},
   "outputs": [],
   "source": [
    "# Print results from query\n",
    "def print_cursor(cursor):\n",
    "    myresult = cursor.fetchall()\n",
    "    for x in myresult:\n",
    "        print(x)"
   ]
  },
  {
   "cell_type": "code",
   "execution_count": null,
   "metadata": {},
   "outputs": [],
   "source": [
    "# Commit changes to server\n",
    "def commit():\n",
    "    mydb.commit()"
   ]
  },
  {
   "cell_type": "code",
   "execution_count": null,
   "metadata": {},
   "outputs": [],
   "source": [
    "# Create Users table\n",
    "mycursor.execute(\"\"\"CREATE TABLE Users (\n",
    "\tuserId   INT         NOT NULL,\n",
    "\tuserName VARCHAR(50),\n",
    "\tpassword VARCHAR(50),\n",
    "\tapiToken VARCHAR(50),\n",
    "\n",
    "\tPRIMARY KEY(userId)\n",
    ");\"\"\")"
   ]
  },
  {
   "cell_type": "code",
   "execution_count": null,
   "metadata": {},
   "outputs": [],
   "source": [
    "# Populate Users table\n",
    "for i in range(1009):\n",
    "    mycursor.execute(f'Insert into Users Values({i+1}, \"test{i+1}\", \"pwd\", \"api{i+1}\");')"
   ]
  },
  {
   "cell_type": "code",
   "execution_count": null,
   "metadata": {},
   "outputs": [],
   "source": [
    "# Create the Songs table\n",
    "mycursor.execute(\"\"\"CREATE TABLE Songs (\n",
    "\tsongId         VARCHAR(50) NOT NULL,\n",
    "\tname           VARCHAR(150),\n",
    "\tartist         VARCHAR(50),\n",
    "\tgenre          VARCHAR(50),\n",
    "\turl            VARCHAR(50),\n",
    "\tlikenessFactor REAL,\n",
    "\n",
    "\tPRIMARY KEY(songId)\n",
    ");\"\"\")"
   ]
  },
  {
   "cell_type": "code",
   "execution_count": null,
   "metadata": {},
   "outputs": [],
   "source": [
    "# Populate Songs table\n",
    "# idx = -1\n",
    "l = []\n",
    "for i, entry in df2head.iterrows():\n",
    "    # idx += 1\n",
    "    # if idx < 134:\n",
    "    #     continue\n",
    "    entry = list(entry)\n",
    "    url = f\"open.spotify.com/track/{entry[3]}\"\n",
    "    entry2 = entry[2].replace('\"', '')\n",
    "    mycursor.execute(f'Insert into Songs Values(\"{entry[3]}\", \"{entry2}\", \"{entry[1]}\", \"{entry[0]}\", \"{url}\", {random.randint(1, 20)});')\n",
    "    commit()"
   ]
  },
  {
   "cell_type": "code",
   "execution_count": null,
   "metadata": {},
   "outputs": [],
   "source": [
    "# Create the Reviews table\n",
    "mycursor.execute(\"\"\"CREATE TABLE Reviews (\n",
    "\treviewId INT          NOT NULL,\n",
    "\trating   REAL,\n",
    "\tbody     VARCHAR(140),\n",
    "\n",
    "\tsongId   VARCHAR(50),\n",
    "\tuserId   INT,\n",
    "\n",
    "\tPRIMARY KEY(reviewId),\n",
    "\tFOREIGN KEY(songId) REFERENCES Songs(songId) ON DELETE CASCADE,\n",
    "\tFOREIGN KEY(userId) REFERENCES Users(userId) ON DELETE CASCADE\n",
    ");\"\"\")"
   ]
  },
  {
   "cell_type": "code",
   "execution_count": null,
   "metadata": {},
   "outputs": [],
   "source": [
    "# Populate Reviews table\n",
    "l=[]\n",
    "d = {}\n",
    "idx = 0\n",
    "for i, entry in df2head.iterrows():\n",
    "    d[idx] = entry[3]\n",
    "    idx += 1\n",
    "\n",
    "for i in range(1000):\n",
    "    f = [d[random.randint(0, 999)], random.randint(0, 1000)]\n",
    "    while(f in l):\n",
    "        f = [d[random.randint(0, 999)], random.randint(0, 1000)]\n",
    "\n",
    "    l.append(f)\n",
    "\n",
    "    mycursor.execute(f'insert into Reviews values({i}, {random.randint(0, 10)}, \"body{i}\", \"{f[0]}\", {f[1]});')\n",
    "    commit()"
   ]
  },
  {
   "cell_type": "code",
   "execution_count": null,
   "metadata": {},
   "outputs": [],
   "source": [
    "# Create Playlists table\n",
    "mycursor.execute(\"\"\"CREATE TABLE Playlists (\n",
    "\tplaylistId   INT         NOT NULL,\n",
    "\tplaylistName VARCHAR(50),\n",
    "\n",
    "\tuserId       INT,\n",
    "\n",
    "\tPRIMARY KEY(playlistId),\n",
    "\tFOREIGN KEY(userId) REFERENCES Users(userId) ON DELETE CASCADE\n",
    ");\"\"\")"
   ]
  },
  {
   "cell_type": "code",
   "execution_count": null,
   "metadata": {},
   "outputs": [],
   "source": [
    "# Populate Playlists table\n",
    "for i in range(1000):\n",
    "    mycursor.execute(f'Insert into Playlists Values({i}, \"playlist{i}\", {random.randint(0, 1000)});')\n",
    "    commit()"
   ]
  },
  {
   "cell_type": "code",
   "execution_count": null,
   "metadata": {},
   "outputs": [],
   "source": [
    "# Create SongsFoundIn table\n",
    "mycursor.execute(\"\"\"CREATE TABLE SongsFoundIn (\n",
    "\tsongId     VARCHAR(50) NOT NULL,\n",
    "\tplaylistId INT         NOT NULL,\n",
    "\n",
    "\tPRIMARY KEY(songId, playlistId),\n",
    "\tFOREIGN KEY(songId)     REFERENCES Songs(songId)         ON DELETE CASCADE,\n",
    "\tFOREIGN KEY(playlistId) REFERENCES Playlists(playlistId) ON DELETE CASCADE\n",
    ");\"\"\")"
   ]
  },
  {
   "cell_type": "code",
   "execution_count": null,
   "metadata": {},
   "outputs": [],
   "source": [
    "# Populate SongsFoundIn table\n",
    "d = {}\n",
    "idx = 0\n",
    "for i, entry in df2head.iterrows():\n",
    "    d[idx] = entry[3]\n",
    "    idx += 1\n",
    "\n",
    "for i in range(1000):\n",
    "    l = []\n",
    "    for j in range(random.randint(3, 8)):\n",
    "        f = d[random.randint(0, 999)]\n",
    "        while(f in l):\n",
    "            f = d[random.randint(0, 999)]\n",
    "\n",
    "        l.append(f)\n",
    "        mycursor.execute(f'Insert into SongsFoundIn Values(\"{f}\", {i});')\n",
    "        commit()\n",
    "    "
   ]
  },
  {
   "cell_type": "code",
   "execution_count": null,
   "metadata": {},
   "outputs": [],
   "source": [
    "# Create table Friends\n",
    "mycursor.execute(\"\"\"CREATE TABLE Friends (\n",
    "\tfriendId INT  NOT NULL,\n",
    "\tuserId   INT  NOT NULL,\n",
    "\tfScore   REAL,\n",
    "\n",
    "\tPRIMARY KEY(friendId, userId),\n",
    "\tFOREIGN KEY(friendId) REFERENCES Users(userId) ON DELETE CASCADE,\n",
    "\tFOREIGN KEY(userId)   REFERENCES Users(userId) ON DELETE CASCADE\n",
    ");\"\"\")"
   ]
  },
  {
   "cell_type": "code",
   "execution_count": null,
   "metadata": {},
   "outputs": [],
   "source": [
    "# Create random friendships\n",
    "\n",
    "friendships = []\n",
    "for i in range(2000):\n",
    "    f1 = random.randint(0, 999)\n",
    "    f2 = random.randint(0, 999)\n",
    "    while(f1 == f2):\n",
    "        f2 = random.randint(0, 999)\n",
    "\n",
    "    l = [f1, f2]\n",
    "    l2 = [f2, f1]\n",
    "\n",
    "    if l not in friendships and l2 not in friendships:\n",
    "        mycursor.execute(f'Insert into Friends Values({l[1]}, {l[0]}, {random.randint(1, 10)});')\n",
    "        friendships.append(l)\n",
    "        "
   ]
  },
  {
   "cell_type": "code",
   "execution_count": null,
   "metadata": {},
   "outputs": [],
   "source": [
    "# Find the name, artist, and average ratings for all the songs in a given playlist (eg. playlistId 700)\n",
    "query = \"\"\"SELECT name, artist, r.avg_rating\n",
    "FROM Songs\n",
    "NATURAL JOIN (SELECT songId FROM SongsFoundIn WHERE playlistId = 700) s\n",
    "LEFT JOIN (SELECT songId, avg(rating) AS avg_rating FROM Reviews GROUP BY songId) r\n",
    "ON Songs.songId = r.songId;\"\"\"\n",
    "\n",
    "mycursor.execute(query) # Find the name, artist, and average ratings for all the songs in a given playlist (eg. playlistId 700)\n",
    "print_cursor(mycursor)"
   ]
  },
  {
   "cell_type": "code",
   "execution_count": null,
   "metadata": {},
   "outputs": [],
   "source": [
    "# Find the username, song name, artist, body, and ratings for all the reviews written by all of a User's friends (eg. userId = 90). We are using a UNION in order to find occurrences where the user is a friend of another user (as our friends relations are directed)\n",
    "query = \"\"\"SELECT Users.userName, sub.name, sub.artist, sub.body, sub.rating\n",
    "FROM \n",
    "(SELECT Reviews.userId, Songs.name, Songs.artist, Reviews.body, Reviews.rating\n",
    "\tFROM Songs NATURAL JOIN Reviews) sub\n",
    "JOIN Users ON Users.userId = sub.UserId\n",
    "WHERE sub.userId IN (SELECT friendId FROM Friends WHERE userId = 90) \n",
    "\n",
    "UNION\n",
    "\n",
    "SELECT Users.userName, sub.name, sub.artist, sub.body, sub.rating\n",
    "FROM\n",
    "(SELECT Reviews.userId, Songs.name, Songs.artist, Reviews.body, Reviews.rating\n",
    "\tFROM Songs NATURAL JOIN Reviews) sub \n",
    "JOIN Users ON Users.userId = sub.UserId\n",
    "WHERE sub.userId IN (SELECT userId FROM Friends WHERE friendId = 90);\"\"\"\n",
    "\n",
    "mycursor.execute(query) \n",
    "print_cursor(mycursor)"
   ]
  },
  {
   "cell_type": "code",
   "execution_count": 14,
   "metadata": {},
   "outputs": [],
   "source": [
    "# Find the name, artist, and average ratings for all the songs in a given playlist (eg. playlistId 700)\n",
    "query = \"\"\"SELECT name, artist, r.avg_rating\n",
    "FROM Songs\n",
    "NATURAL JOIN (SELECT songId FROM SongsFoundIn WHERE playlistId = 700) s\n",
    "LEFT JOIN (SELECT songId, avg(rating) AS avg_rating FROM Reviews GROUP BY songId) r\n",
    "ON Songs.songId = r.songId;\"\"\"\n",
    "\n",
    "#mycursor.execute(\"SHOW INDEX FROM Users\")\n",
    "mycursor.execute(\"ALTER TABLE Users ADD INDEX (userName);\")  # Find the name, artist, and average ratings for all the songs in a given playlist (eg. playlistId 700)\n",
    "print_cursor(mycursor)"
   ]
  },
  {
   "cell_type": "code",
   "execution_count": 15,
   "metadata": {},
   "outputs": [
    {
     "name": "stdout",
     "output_type": "stream",
     "text": [
      "('Users', 0, 'PRIMARY', 1, 'userId', 'A', 1000, None, None, '', 'BTREE', '', '', 'YES', None)\n"
     ]
    }
   ],
   "source": [
    "mycursor.execute(\"SHOW INDEX FROM Users\")\n",
    "print_cursor(mycursor)"
   ]
  },
  {
   "cell_type": "code",
   "execution_count": 18,
   "metadata": {},
   "outputs": [
    {
     "name": "stdout",
     "output_type": "stream",
     "text": [
      "('-> Nested loop left join  (actual time=2.178..2.211 rows=6 loops=1)\\n    -> Nested loop inner join  (cost=2.97 rows=6) (actual time=0.042..0.065 rows=6 loops=1)\\n        -> Index lookup on SongsFoundIn using playlistId (playlistId=700)  (cost=0.87 rows=6) (actual time=0.020..0.024 rows=6 loops=1)\\n        -> Single-row index lookup on Songs using PRIMARY (songId=SongsFoundIn.songId)  (cost=0.27 rows=1) (actual time=0.006..0.006 rows=1 loops=6)\\n    -> Index lookup on r using <auto_key0> (songId=SongsFoundIn.songId)  (actual time=0.002..0.002 rows=1 loops=6)\\n        -> Materialize  (actual time=0.347..0.347 rows=1 loops=6)\\n            -> Group aggregate: avg(Reviews.rating)  (actual time=0.154..1.547 rows=635 loops=1)\\n                -> Index scan on Reviews using songId  (cost=101.50 rows=1000) (actual time=0.146..1.157 rows=1000 loops=1)\\n',)\n"
     ]
    }
   ],
   "source": [
    "mycursor.execute(\"\"\"EXPLAIN ANALYZE \"\"\" + query)\n",
    "print_cursor(mycursor)"
   ]
  },
  {
   "cell_type": "code",
   "execution_count": null,
   "metadata": {},
   "outputs": [],
   "source": []
  }
 ],
 "metadata": {
  "interpreter": {
   "hash": "aee8b7b246df8f9039afb4144a1f6fd8d2ca17a180786b69acc140d282b71a49"
  },
  "kernelspec": {
   "display_name": "Python 3.9.6 64-bit",
   "name": "python3"
  },
  "language_info": {
   "codemirror_mode": {
    "name": "ipython",
    "version": 3
   },
   "file_extension": ".py",
   "mimetype": "text/x-python",
   "name": "python",
   "nbconvert_exporter": "python",
   "pygments_lexer": "ipython3",
   "version": "3.9.6"
  },
  "orig_nbformat": 4
 },
 "nbformat": 4,
 "nbformat_minor": 2
}
