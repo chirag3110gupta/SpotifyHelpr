{
 "cells": [
  {
   "cell_type": "code",
   "execution_count": null,
   "metadata": {},
   "outputs": [],
   "source": [
    "# Install mysql module\n",
    "!pip3.9 install mysql-connector-python"
   ]
  },
  {
   "cell_type": "code",
   "execution_count": null,
   "metadata": {},
   "outputs": [],
   "source": [
    "# Make sure ur IP is on file\n",
    "!curl ipecho.net/plain"
   ]
  },
  {
   "cell_type": "code",
   "execution_count": 1,
   "metadata": {},
   "outputs": [],
   "source": [
    "# Connect to server\n",
    "import mysql.connector\n",
    "import random\n",
    "import pandas as pd\n",
    "\n",
    "mydb = mysql.connector.connect(\n",
    "    host=\"35.232.56.109\",\n",
    "    user=\"root\",\n",
    "    password=\"ah08EbAGxF04I503\",\n",
    "    database=\"SpotifyHelpr\"\n",
    ")\n",
    "\n",
    "mycursor = mydb.cursor()"
   ]
  },
  {
   "cell_type": "code",
   "execution_count": 4,
   "metadata": {},
   "outputs": [],
   "source": [
    "# Load CSV\n",
    "df = pd.read_csv(\"assets/SpotifyFeatures.csv\")\n",
    "ids = df.track_id.tolist()\n",
    "\n",
    "# Get 1000 most popular songs\n",
    "df2 = df.drop_duplicates(subset=[\"track_id\"]).sort_values(\"popularity\",ascending=False)\n",
    "df2head = df2.head(1000)"
   ]
  },
  {
   "cell_type": "code",
   "execution_count": 6,
   "metadata": {},
   "outputs": [],
   "source": [
    "# Print results from query\n",
    "def print_cursor(cursor):\n",
    "    myresult = cursor.fetchall()\n",
    "    for x in myresult:\n",
    "        print(x)"
   ]
  },
  {
   "cell_type": "code",
   "execution_count": 3,
   "metadata": {},
   "outputs": [],
   "source": [
    "# Commit changes to server\n",
    "def commit():\n",
    "    mydb.commit()"
   ]
  },
  {
   "cell_type": "code",
   "execution_count": null,
   "metadata": {},
   "outputs": [],
   "source": [
    "# Create Users table\n",
    "mycursor.execute(\"\"\"CREATE TABLE Users (\n",
    "\tuserId   INT         NOT NULL,\n",
    "\tuserName VARCHAR(50),\n",
    "\tpassword VARCHAR(50),\n",
    "\tapiToken VARCHAR(50),\n",
    "\n",
    "\tPRIMARY KEY(userId)\n",
    ");\"\"\")"
   ]
  },
  {
   "cell_type": "code",
   "execution_count": null,
   "metadata": {},
   "outputs": [],
   "source": [
    "# Populate Users table\n",
    "for i in range(1009):\n",
    "    mycursor.execute(f'Insert into Users Values({i+1}, \"test{i+1}\", \"pwd\", \"api{i+1}\");')"
   ]
  },
  {
   "cell_type": "code",
   "execution_count": null,
   "metadata": {},
   "outputs": [],
   "source": [
    "# Create the Songs table\n",
    "mycursor.execute(\"\"\"CREATE TABLE Songs (\n",
    "\tsongId         VARCHAR(50) NOT NULL,\n",
    "\tname           VARCHAR(150),\n",
    "\tartist         VARCHAR(50),\n",
    "\tgenre          VARCHAR(50),\n",
    "\turl            VARCHAR(50),\n",
    "\tlikenessFactor REAL,\n",
    "\n",
    "\tPRIMARY KEY(songId)\n",
    ");\"\"\")"
   ]
  },
  {
   "cell_type": "code",
   "execution_count": null,
   "metadata": {},
   "outputs": [],
   "source": [
    "# Populate Songs table\n",
    "# idx = -1\n",
    "l = []\n",
    "for i, entry in df2head.iterrows():\n",
    "    # idx += 1\n",
    "    # if idx < 134:\n",
    "    #     continue\n",
    "    entry = list(entry)\n",
    "    url = f\"open.spotify.com/track/{entry[3]}\"\n",
    "    entry2 = entry[2].replace('\"', '')\n",
    "    mycursor.execute(f'Insert into Songs Values(\"{entry[3]}\", \"{entry2}\", \"{entry[1]}\", \"{entry[0]}\", \"{url}\", {random.randint(1, 20)});')\n",
    "    commit()"
   ]
  },
  {
   "cell_type": "code",
   "execution_count": null,
   "metadata": {},
   "outputs": [],
   "source": [
    "# Create the Reviews table\n",
    "mycursor.execute(\"\"\"CREATE TABLE Reviews (\n",
    "\treviewId INT          NOT NULL,\n",
    "\trating   REAL,\n",
    "\tbody     VARCHAR(140),\n",
    "\n",
    "\tsongId   VARCHAR(50),\n",
    "\tuserId   INT,\n",
    "\n",
    "\tPRIMARY KEY(reviewId),\n",
    "\tFOREIGN KEY(songId) REFERENCES Songs(songId) ON DELETE CASCADE,\n",
    "\tFOREIGN KEY(userId) REFERENCES Users(userId) ON DELETE CASCADE\n",
    ");\"\"\")"
   ]
  },
  {
   "cell_type": "code",
   "execution_count": null,
   "metadata": {},
   "outputs": [],
   "source": [
    "# Populate Reviews table\n",
    "l=[]\n",
    "d = {}\n",
    "idx = 0\n",
    "for i, entry in df2head.iterrows():\n",
    "    d[idx] = entry[3]\n",
    "    idx += 1\n",
    "\n",
    "for i in range(1000):\n",
    "    f = [d[random.randint(0, 999)], random.randint(0, 1000)]\n",
    "    while(f in l):\n",
    "        f = [d[random.randint(0, 999)], random.randint(0, 1000)]\n",
    "\n",
    "    l.append(f)\n",
    "\n",
    "    mycursor.execute(f'insert into Reviews values({i}, {random.randint(0, 10)}, \"body{i}\", \"{f[0]}\", {f[1]});')\n",
    "    commit()"
   ]
  },
  {
   "cell_type": "code",
   "execution_count": null,
   "metadata": {},
   "outputs": [],
   "source": [
    "# Create Playlists table\n",
    "mycursor.execute(\"\"\"CREATE TABLE Playlists (\n",
    "\tplaylistId   INT         NOT NULL,\n",
    "\tplaylistName VARCHAR(50),\n",
    "\n",
    "\tuserId       INT,\n",
    "\n",
    "\tPRIMARY KEY(playlistId),\n",
    "\tFOREIGN KEY(userId) REFERENCES Users(userId) ON DELETE CASCADE\n",
    ");\"\"\")"
   ]
  },
  {
   "cell_type": "code",
   "execution_count": null,
   "metadata": {},
   "outputs": [],
   "source": [
    "# Populate Playlists table\n",
    "for i in range(1000):\n",
    "    mycursor.execute(f'Insert into Playlists Values({i}, \"playlist{i}\", {random.randint(0, 1000)});')\n",
    "    commit()"
   ]
  },
  {
   "cell_type": "code",
   "execution_count": null,
   "metadata": {},
   "outputs": [],
   "source": [
    "# Create SongsFoundIn table\n",
    "mycursor.execute(\"\"\"CREATE TABLE SongsFoundIn (\n",
    "\tsongId     VARCHAR(50) NOT NULL,\n",
    "\tplaylistId INT         NOT NULL,\n",
    "\n",
    "\tPRIMARY KEY(songId, playlistId),\n",
    "\tFOREIGN KEY(songId)     REFERENCES Songs(songId)         ON DELETE CASCADE,\n",
    "\tFOREIGN KEY(playlistId) REFERENCES Playlists(playlistId) ON DELETE CASCADE\n",
    ");\"\"\")"
   ]
  },
  {
   "cell_type": "code",
   "execution_count": null,
   "metadata": {},
   "outputs": [],
   "source": [
    "# Populate SongsFoundIn table\n",
    "d = {}\n",
    "idx = 0\n",
    "for i, entry in df2head.iterrows():\n",
    "    d[idx] = entry[3]\n",
    "    idx += 1\n",
    "\n",
    "for i in range(1000):\n",
    "    l = []\n",
    "    for j in range(random.randint(3, 8)):\n",
    "        f = d[random.randint(0, 999)]\n",
    "        while(f in l):\n",
    "            f = d[random.randint(0, 999)]\n",
    "\n",
    "        l.append(f)\n",
    "        mycursor.execute(f'Insert into SongsFoundIn Values(\"{f}\", {i});')\n",
    "        commit()\n",
    "    "
   ]
  },
  {
   "cell_type": "code",
   "execution_count": null,
   "metadata": {},
   "outputs": [],
   "source": [
    "# Create table Friends\n",
    "mycursor.execute(\"\"\"CREATE TABLE Friends (\n",
    "\tfriendId INT  NOT NULL,\n",
    "\tuserId   INT  NOT NULL,\n",
    "\tfScore   REAL,\n",
    "\n",
    "\tPRIMARY KEY(friendId, userId),\n",
    "\tFOREIGN KEY(friendId) REFERENCES Users(userId) ON DELETE CASCADE,\n",
    "\tFOREIGN KEY(userId)   REFERENCES Users(userId) ON DELETE CASCADE\n",
    ");\"\"\")"
   ]
  },
  {
   "cell_type": "code",
   "execution_count": null,
   "metadata": {},
   "outputs": [],
   "source": [
    "# Create random friendships\n",
    "\n",
    "friendships = []\n",
    "for i in range(2000):\n",
    "    f1 = random.randint(0, 999)\n",
    "    f2 = random.randint(0, 999)\n",
    "    while(f1 == f2):\n",
    "        f2 = random.randint(0, 999)\n",
    "\n",
    "    l = [f1, f2]\n",
    "    l2 = [f2, f1]\n",
    "\n",
    "    if l not in friendships and l2 not in friendships:\n",
    "        mycursor.execute(f'Insert into Friends Values({l[1]}, {l[0]}, {random.randint(1, 10)});')\n",
    "        friendships.append(l)\n",
    "        "
   ]
  },
  {
   "cell_type": "code",
   "execution_count": 7,
   "metadata": {},
   "outputs": [
    {
     "name": "stdout",
     "output_type": "stream",
     "text": [
      "('Hey Jude - Remastered 2015', 'The Beatles')\n",
      "(\"That's What I Like\", 'Bruno Mars')\n",
      "('Saturday Nights REMIX', 'Khalid')\n",
      "('Amanece', 'Anuel Aa')\n",
      "('Felices los 4', 'Maluma')\n",
      "('How Did I Get Here (feat. J. Cole)', 'Offset')\n",
      "('This Feeling', 'The Chainsmokers')\n",
      "('Reggaetón en lo Oscuro', 'Wisin & Yandel')\n"
     ]
    }
   ],
   "source": [
    "# Find all songs in a playlist\n",
    "playlistId = 891\n",
    "mycursor.execute(f\"SELECT name, artist FROM Songs ss NATURAL JOIN (select songId from SongsFoundIn where playlistId LIKE {playlistId}) s;\")\n",
    "print_cursor(mycursor)"
   ]
  },
  {
   "cell_type": "code",
   "execution_count": null,
   "metadata": {},
   "outputs": [],
   "source": []
  }
 ],
 "metadata": {
  "interpreter": {
   "hash": "aee8b7b246df8f9039afb4144a1f6fd8d2ca17a180786b69acc140d282b71a49"
  },
  "kernelspec": {
   "display_name": "Python 3.9.6 64-bit",
   "name": "python3"
  },
  "language_info": {
   "codemirror_mode": {
    "name": "ipython",
    "version": 3
   },
   "file_extension": ".py",
   "mimetype": "text/x-python",
   "name": "python",
   "nbconvert_exporter": "python",
   "pygments_lexer": "ipython3",
   "version": "3.9.6"
  },
  "orig_nbformat": 4
 },
 "nbformat": 4,
 "nbformat_minor": 2
}
