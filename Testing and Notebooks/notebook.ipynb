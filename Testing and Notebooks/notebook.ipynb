{
 "cells": [
  {
   "cell_type": "code",
   "execution_count": null,
   "source": [
    "# Install mysql module\r\n",
    "!pip3.9 install mysql-connector-python\r\n",
    "!pip3.9 install pandas"
   ],
   "outputs": [],
   "metadata": {}
  },
  {
   "cell_type": "code",
   "execution_count": null,
   "source": [
    "# Make sure ur IP is on file\r\n",
    "!curl ipecho.net/plain"
   ],
   "outputs": [],
   "metadata": {}
  },
  {
   "cell_type": "code",
   "execution_count": null,
   "source": [
    "# Connect to server\r\n",
    "import mysql.connector\r\n",
    "import random\r\n",
    "import pandas as pd\r\n",
    "\r\n",
    "mydb = mysql.connector.connect(\r\n",
    "    host=\"35.232.56.109\",\r\n",
    "    user=\"root\",\r\n",
    "    password=\"ah08EbAGxF04I503\",\r\n",
    "    database=\"SpotifyHelpr\"\r\n",
    ")\r\n",
    "\r\n",
    "mycursor = mydb.cursor()"
   ],
   "outputs": [],
   "metadata": {}
  },
  {
   "cell_type": "code",
   "execution_count": null,
   "source": [
    "# Load CSV\r\n",
    "df = pd.read_csv(\"../assets/SpotifyFeatures.csv\")\r\n",
    "ids = df.track_id.tolist()\r\n",
    "\r\n",
    "# Get 1000 most popular songs\r\n",
    "df2 = df.drop_duplicates(subset=[\"track_id\"]).sort_values(\"popularity\",ascending=False)"
   ],
   "outputs": [],
   "metadata": {}
  },
  {
   "cell_type": "code",
   "execution_count": null,
   "source": [],
   "outputs": [],
   "metadata": {}
  },
  {
   "cell_type": "code",
   "execution_count": null,
   "source": [
    "# Print results from query\r\n",
    "def print_cursor(cursor):\r\n",
    "    myresult = cursor.fetchall()\r\n",
    "    for x in myresult:\r\n",
    "        print(x)"
   ],
   "outputs": [],
   "metadata": {}
  },
  {
   "cell_type": "code",
   "execution_count": null,
   "source": [
    "# Commit changes to server\r\n",
    "def commit():\r\n",
    "    mydb.commit()"
   ],
   "outputs": [],
   "metadata": {}
  },
  {
   "cell_type": "code",
   "execution_count": null,
   "source": [
    "def roll_back():\r\n",
    "    mydb.rollback()"
   ],
   "outputs": [],
   "metadata": {}
  },
  {
   "cell_type": "code",
   "execution_count": null,
   "source": [
    "# Create Users table\r\n",
    "mycursor.execute(\"\"\"CREATE TABLE Users (\r\n",
    "\tuserId   INT         NOT NULL,\r\n",
    "\tuserName VARCHAR(50),\r\n",
    "\tpassword VARCHAR(50),\r\n",
    "\tapiToken VARCHAR(50),\r\n",
    "\r\n",
    "\tPRIMARY KEY(userId)\r\n",
    ");\"\"\")"
   ],
   "outputs": [],
   "metadata": {}
  },
  {
   "cell_type": "code",
   "execution_count": null,
   "source": [
    "# Populate Users table\r\n",
    "for i in range(1009):\r\n",
    "    mycursor.execute(f'Insert into Users Values({i+1}, \"test{i+1}\", \"pwd\", \"api{i+1}\");')"
   ],
   "outputs": [],
   "metadata": {}
  },
  {
   "cell_type": "code",
   "execution_count": null,
   "source": [
    "# Create the Songs table\r\n",
    "mycursor.execute(\"\"\"CREATE TABLE Songs (\r\n",
    "\tsongId         VARCHAR(50) NOT NULL,\r\n",
    "\tname           VARCHAR(150),\r\n",
    "\tartist         VARCHAR(50),\r\n",
    "\tgenre          VARCHAR(50),\r\n",
    "\turl            VARCHAR(50),\r\n",
    "\tlikenessFactor REAL,\r\n",
    "\r\n",
    "\tPRIMARY KEY(songId)\r\n",
    ");\"\"\")"
   ],
   "outputs": [],
   "metadata": {}
  },
  {
   "cell_type": "code",
   "execution_count": null,
   "source": [
    "# Populate Songs table\r\n",
    "# idx = -1\r\n",
    "completed = 22439\r\n",
    "amt = 25000\r\n",
    "\r\n",
    "to_add = df2.head(completed+amt).tail(amt)\r\n",
    "l = []\r\n",
    "\r\n",
    "for i, entry in to_add.iterrows():\r\n",
    "    # idx += 1\r\n",
    "    # if idx < 134:\r\n",
    "    #     continue\r\n",
    "    try:\r\n",
    "        entry = list(entry)\r\n",
    "        url = f\"open.spotify.com/track/{entry[3]}\"\r\n",
    "        entry2 = entry[2].replace('\"', '')\r\n",
    "        mycursor.execute(f'Insert into Songs Values(\"{entry[3]}\", \"{entry2}\", \"{entry[1]}\", \"{entry[0]}\", \"{url}\", {random.randint(1, 20)});')\r\n",
    "        commit()\r\n",
    "    except:\r\n",
    "        continue"
   ],
   "outputs": [],
   "metadata": {}
  },
  {
   "cell_type": "code",
   "execution_count": null,
   "source": [
    "# Create the Reviews table\r\n",
    "mycursor.execute(\"\"\"CREATE TABLE Reviews (\r\n",
    "\treviewId INT          NOT NULL,\r\n",
    "\trating   REAL,\r\n",
    "\tbody     VARCHAR(140),\r\n",
    "\r\n",
    "\tsongId   VARCHAR(50),\r\n",
    "\tuserId   INT,\r\n",
    "\r\n",
    "\tPRIMARY KEY(reviewId),\r\n",
    "\tFOREIGN KEY(songId) REFERENCES Songs(songId) ON DELETE CASCADE,\r\n",
    "\tFOREIGN KEY(userId) REFERENCES Users(userId) ON DELETE CASCADE\r\n",
    ");\"\"\")"
   ],
   "outputs": [],
   "metadata": {}
  },
  {
   "cell_type": "code",
   "execution_count": null,
   "source": [
    "# Populate Reviews table\r\n",
    "l=[]\r\n",
    "d = {}\r\n",
    "idx = 0\r\n",
    "for i, entry in df2head.iterrows():\r\n",
    "    d[idx] = entry[3]\r\n",
    "    idx += 1\r\n",
    "\r\n",
    "for i in range(1000):\r\n",
    "    f = [d[random.randint(0, 999)], random.randint(0, 1000)]\r\n",
    "    while(f in l):\r\n",
    "        f = [d[random.randint(0, 999)], random.randint(0, 1000)]\r\n",
    "\r\n",
    "    l.append(f)\r\n",
    "\r\n",
    "    mycursor.execute(f'insert into Reviews values({i}, {random.randint(0, 10)}, \"body{i}\", \"{f[0]}\", {f[1]});')\r\n",
    "    commit()"
   ],
   "outputs": [],
   "metadata": {}
  },
  {
   "cell_type": "code",
   "execution_count": null,
   "source": [
    "# Create Playlists table\r\n",
    "mycursor.execute(\"\"\"CREATE TABLE Playlists (\r\n",
    "\tplaylistId   INT         NOT NULL,\r\n",
    "\tplaylistName VARCHAR(50),\r\n",
    "\r\n",
    "\tuserId       INT,\r\n",
    "\r\n",
    "\tPRIMARY KEY(playlistId),\r\n",
    "\tFOREIGN KEY(userId) REFERENCES Users(userId) ON DELETE CASCADE\r\n",
    ");\"\"\")"
   ],
   "outputs": [],
   "metadata": {}
  },
  {
   "cell_type": "code",
   "execution_count": null,
   "source": [
    "# Populate Playlists table\r\n",
    "for i in range(1000):\r\n",
    "    mycursor.execute(f'Insert into Playlists Values({i}, \"playlist{i}\", {random.randint(0, 1000)});')\r\n",
    "    commit()"
   ],
   "outputs": [],
   "metadata": {}
  },
  {
   "cell_type": "code",
   "execution_count": null,
   "source": [
    "# Create SongsFoundIn table\r\n",
    "mycursor.execute(\"\"\"CREATE TABLE SongsFoundIn (\r\n",
    "\tsongId     VARCHAR(50) NOT NULL,\r\n",
    "\tplaylistId INT         NOT NULL,\r\n",
    "\r\n",
    "\tPRIMARY KEY(songId, playlistId),\r\n",
    "\tFOREIGN KEY(songId)     REFERENCES Songs(songId)         ON DELETE CASCADE,\r\n",
    "\tFOREIGN KEY(playlistId) REFERENCES Playlists(playlistId) ON DELETE CASCADE\r\n",
    ");\"\"\")"
   ],
   "outputs": [],
   "metadata": {}
  },
  {
   "cell_type": "code",
   "execution_count": null,
   "source": [
    "# Populate SongsFoundIn table\r\n",
    "d = {}\r\n",
    "idx = 0\r\n",
    "for i, entry in df2head.iterrows():\r\n",
    "    d[idx] = entry[3]\r\n",
    "    idx += 1\r\n",
    "\r\n",
    "for i in range(1000):\r\n",
    "    l = []\r\n",
    "    for j in range(random.randint(3, 8)):\r\n",
    "        f = d[random.randint(0, 999)]\r\n",
    "        while(f in l):\r\n",
    "            f = d[random.randint(0, 999)]\r\n",
    "\r\n",
    "        l.append(f)\r\n",
    "        mycursor.execute(f'Insert into SongsFoundIn Values(\"{f}\", {i});')\r\n",
    "        commit()"
   ],
   "outputs": [],
   "metadata": {}
  },
  {
   "cell_type": "code",
   "execution_count": null,
   "source": [
    "# Create table Friends\r\n",
    "mycursor.execute(\"\"\"CREATE TABLE Friends (\r\n",
    "\tfriendId INT  NOT NULL,\r\n",
    "\tuserId   INT  NOT NULL,\r\n",
    "\tfScore   REAL,\r\n",
    "\r\n",
    "\tPRIMARY KEY(friendId, userId),\r\n",
    "\tFOREIGN KEY(friendId) REFERENCES Users(userId) ON DELETE CASCADE,\r\n",
    "\tFOREIGN KEY(userId)   REFERENCES Users(userId) ON DELETE CASCADE\r\n",
    ");\"\"\")"
   ],
   "outputs": [],
   "metadata": {}
  },
  {
   "cell_type": "code",
   "execution_count": null,
   "source": [
    "# Create random friendships\r\n",
    "friendships = []\r\n",
    "for i in range(2000):\r\n",
    "    f1 = random.randint(0, 999)\r\n",
    "    f2 = random.randint(0, 999)\r\n",
    "    while(f1 == f2):\r\n",
    "        f2 = random.randint(0, 999)\r\n",
    "\r\n",
    "    l = [f1, f2]\r\n",
    "    l2 = [f2, f1]\r\n",
    "\r\n",
    "    if l not in friendships and l2 not in friendships:\r\n",
    "        mycursor.execute(f'Insert into Friends Values({l[1]}, {l[0]}, {random.randint(1, 10)});')\r\n",
    "        friendships.append(l)\r\n",
    "        "
   ],
   "outputs": [],
   "metadata": {}
  },
  {
   "cell_type": "code",
   "execution_count": null,
   "source": [
    "# Find the name, artist, and average ratings for all the songs in a given playlist (eg. playlistId 700)\r\n",
    "query = \"\"\"SELECT name, artist, r.avg_rating\r\n",
    "FROM Songs\r\n",
    "NATURAL JOIN (SELECT songId FROM SongsFoundIn WHERE playlistId = 700) s\r\n",
    "LEFT JOIN (SELECT songId, avg(rating) AS avg_rating FROM Reviews GROUP BY songId) r\r\n",
    "ON Songs.songId = r.songId;\"\"\"\r\n",
    "\r\n",
    "mycursor.execute(query) # Find the name, artist, and average ratings for all the songs in a given playlist (eg. playlistId 700)\r\n",
    "print_cursor(mycursor)"
   ],
   "outputs": [],
   "metadata": {}
  },
  {
   "cell_type": "code",
   "execution_count": null,
   "source": [
    "# Find the username, song name, artist, body, and ratings for all the reviews written by all of a User's friends (eg. userId = 90). We are using a UNION in order to find occurrences where the user is a friend of another user (as our friends relations are directed)\r\n",
    "query = \"\"\"SELECT Users.userName, sub.name, sub.artist, sub.body, sub.rating\r\n",
    "FROM \r\n",
    "(SELECT Reviews.userId, Songs.name, Songs.artist, Reviews.body, Reviews.rating\r\n",
    "\tFROM Songs NATURAL JOIN Reviews) sub\r\n",
    "JOIN Users ON Users.userId = sub.UserId\r\n",
    "WHERE sub.userId IN (SELECT friendId FROM Friends WHERE userId = 90) \r\n",
    "\r\n",
    "UNION\r\n",
    "\r\n",
    "SELECT Users.userName, sub.name, sub.artist, sub.body, sub.rating\r\n",
    "FROM\r\n",
    "(SELECT Reviews.userId, Songs.name, Songs.artist, Reviews.body, Reviews.rating\r\n",
    "\tFROM Songs NATURAL JOIN Reviews) sub \r\n",
    "JOIN Users ON Users.userId = sub.UserId\r\n",
    "WHERE sub.userId IN (SELECT userId FROM Friends WHERE friendId = 90);\"\"\"\r\n",
    "\r\n",
    "mycursor.execute(query) \r\n",
    "print_cursor(mycursor)"
   ],
   "outputs": [],
   "metadata": {}
  },
  {
   "cell_type": "code",
   "execution_count": null,
   "source": [
    "# Find the name, artist, and average ratings for all the songs in a given playlist (eg. playlistId 700)\r\n",
    "query = \"\"\"SELECT name, artist, r.avg_rating\r\n",
    "FROM Songs\r\n",
    "NATURAL JOIN (SELECT songId FROM SongsFoundIn WHERE playlistId = 0) s\r\n",
    "LEFT JOIN (SELECT songId, avg(rating) AS avg_rating FROM Reviews GROUP BY songId) r\r\n",
    "ON Songs.songId = r.songId;\"\"\"\r\n",
    "\r\n",
    "#mycursor.execute(\"SHOW INDEX FROM Users\")\r\n",
    "mycursor.execute(query)\r\n",
    "# mycursor.execute(\"ALTER TABLE Users ADD INDEX (userName);\")  # Find the name, artist, and average ratings for all the songs in a given playlist (eg. playlistId 700)\r\n",
    "print_cursor(mycursor)"
   ],
   "outputs": [],
   "metadata": {}
  },
  {
   "cell_type": "code",
   "execution_count": null,
   "source": [
    "# Calculate all the likeness groups for all the songs i the database and update the Songs table to reflect these groups\r\n",
    "import pandas as pd\r\n",
    "from sklearn.cluster import KMeans\r\n",
    "import numpy as np\r\n",
    "\r\n",
    "df_kMeans = pd.read_csv(\"../assets/SpotifyFeatures.csv\")\r\n",
    "\r\n",
    "track_ids = df_kMeans['track_id'].copy()\r\n",
    "df_kMeans = df_kMeans.drop(['track_id', 'genre', 'artist_name', 'track_name', 'key', 'mode', 'time_signature'], axis=1)\r\n",
    "\r\n",
    "X = np.array(df_kMeans)\r\n",
    "k = KMeans(n_clusters=10, random_state=0).fit(X)\r\n",
    "df_kMeans['track_id'] = track_ids\r\n",
    "df_kMeans['likeness_factor'] = k.labels_\r\n",
    "df_kMeans.astype({'likeness_factor': 'float64'})\r\n",
    "\r\n",
    "likeness_dict = df_kMeans.set_index('track_id').to_dict()['likeness_factor']\r\n",
    "\r\n",
    "mycursor.execute(\"\"\"SELECT songId FROM Songs \"\"\")\r\n",
    "sql_query = []\r\n",
    "\r\n",
    "myresult = mycursor.fetchall()\r\n",
    "for x in myresult:\r\n",
    "    sql_query.append(x[0])\r\n",
    "    \r\n",
    "for i in sql_query:\r\n",
    "    query = f'''\r\n",
    "        UPDATE Songs\r\n",
    "        SET likenessFactor = {likeness_dict[i]}\r\n",
    "        WHERE songId = '{i}';\r\n",
    "    '''\r\n",
    "    mycursor.execute(query)\r\n",
    "    commit()"
   ],
   "outputs": [],
   "metadata": {}
  },
  {
   "cell_type": "code",
   "execution_count": null,
   "source": [
    "# Inserting all the missing song parameters into the Songs table\r\n",
    "import numpy as np\r\n",
    "\r\n",
    "df_toinsert = pd.read_csv(\"../assets/SpotifyFeatures.csv\")\r\n",
    "track_ids = df_toinsert['track_id'].copy()\r\n",
    "\r\n",
    "ac_dict = df_kMeans.set_index('track_id').to_dict()['acousticness']\r\n",
    "da_dict = df_kMeans.set_index('track_id').to_dict()['danceability']\r\n",
    "en_dict = df_kMeans.set_index('track_id').to_dict()['energy']\r\n",
    "in_dict = df_kMeans.set_index('track_id').to_dict()['instrumentalness']\r\n",
    "li_dict = df_kMeans.set_index('track_id').to_dict()['liveness']\r\n",
    "sp_dict = df_kMeans.set_index('track_id').to_dict()['speechiness']\r\n",
    "\r\n",
    "mycursor.execute(\"\"\"SELECT songId FROM Songs \"\"\")\r\n",
    "sql_query = []\r\n",
    "\r\n",
    "myresult = mycursor.fetchall()\r\n",
    "for x in myresult:\r\n",
    "    sql_query.append(x[0])\r\n",
    "    \r\n",
    "for i in sql_query:\r\n",
    "    query = f'''\r\n",
    "        UPDATE Songs\r\n",
    "        SET acousticness = {ac_dict[i]}, danceability = {da_dict[i]}, energy = {en_dict[i]}, instrumentalness = {in_dict[i]}, liveness = {li_dict[i]}, speechiness = {sp_dict[i]}\r\n",
    "        WHERE songId = '{i}';\r\n",
    "    '''\r\n",
    "    mycursor.execute(query)\r\n",
    "    commit()"
   ],
   "outputs": [],
   "metadata": {}
  },
  {
   "cell_type": "code",
   "execution_count": null,
   "source": [
    "# Creating a procedure to calculate all the average values of song parameters for each user's songs.\r\n",
    "mycursor.execute(f\"\"\"\r\n",
    "CREATE PROCEDURE get_Averages()\r\n",
    "\tBEGIN\r\n",
    "\t\tDECLARE done int default 0;\r\n",
    "\t\tDECLARE currUser INT;\r\n",
    "\t\tDECLARE usercur CURSOR FOR SELECT DISTINCT userId FROM Users;\r\n",
    "\t\tDECLARE CONTINUE HANDLER FOR NOT FOUND SET done = 1;\r\n",
    "\r\n",
    "\t\tDROP TABLE IF EXISTS avgValsByUser;\r\n",
    "\r\n",
    "\t\tCREATE TABLE avgValsByUser (\r\n",
    "\t\t\tuserId INT,\r\n",
    "\t\t\tacousticness REAL,\r\n",
    "\t\t\tdanceability REAL,\r\n",
    "\t\t\tenergy REAL,\r\n",
    "\t\t\tinstrumentalness REAL,\r\n",
    "\t\t\tliveness REAL,\r\n",
    "\t\t\tspeechiness REAL\r\n",
    "\t\t);\r\n",
    "\r\n",
    "\t\tOPEN usercur;\r\n",
    "\t\tREPEAT\r\n",
    "\t\t\tFETCH usercur INTO currUser;\r\n",
    "\t\t\tINSERT INTO avgValsByUser\r\n",
    "\t\t\t(SELECT t.userId, AVG(t.acousticness), AVG(t.danceability), AVG(t.energy), AVG(t.instrumentalness), AVG(t.liveness), AVG(t.speechiness) FROM (SELECT temp2.userId, Songs.acousticness, Songs.danceability, Songs.energy, Songs.instrumentalness, Songs.liveness, Songs.speechiness FROM\r\n",
    "\t\t\t(SELECT temp.userId, temp.playlistId, SongsFoundIn.songId FROM (SELECT Users.userId, Playlists.playlistId FROM Users JOIN Playlists ON Users.userId = Playlists.userId WHERE Users.userId = currUser) temp\r\n",
    "\t\t\tJOIN SongsFoundIn ON temp.playlistId = SongsFoundIn.playlistId) temp2 JOIN Songs ON temp2.songId = Songs.songId) t\r\n",
    "\t\t\tGROUP BY t.userId);\r\n",
    "\t\tUNTIL done\r\n",
    "\t\tEND REPEAT;\r\n",
    "\r\n",
    "\t\tclose usercur;\r\n",
    "\tEND\"\"\")\r\n",
    "print_cursor(mycursor)"
   ],
   "outputs": [],
   "metadata": {}
  },
  {
   "cell_type": "code",
   "execution_count": null,
   "source": [
    "# Creating a trigger to make sure a Review's ratings stay between 0 - 10. If a User inputs a negative review, it deletes the song\r\n",
    "mycursor.execute(f\"\"\"\r\n",
    "CREATE TRIGGER ReviewInsert\r\n",
    "    BEFORE INSERT ON Reviews\r\n",
    "        FOR EACH ROW\r\n",
    "    BEGIN\r\n",
    "        SET @high_rat = 10;\r\n",
    "        SET @low_rat = 0;\r\n",
    "            IF new.rating > 10 THEN\r\n",
    "                SET new.rating = @high_rat;\r\n",
    "            END IF;\r\n",
    "            IF new.rating < 0 THEN\r\n",
    "                SET new.rating = @low_rat;\r\n",
    "                DELETE FROM SongsFoundIn WHERE songId = new.songId AND playlistId IN (SELECT playlistId FROM Playlists WHERE userId = new.userId);\r\n",
    "            END IF;\r\n",
    "    END;\r\n",
    "\"\"\")\r\n",
    "print_cursor(mycursor)"
   ],
   "outputs": [],
   "metadata": {}
  },
  {
   "cell_type": "code",
   "execution_count": null,
   "source": [
    "# Query to find 15 random songs from the same likeness group (radio feature)\r\n",
    "songId = '001gDjxhKGDSx4sMMAgS9R'\r\n",
    "mycursor.execute(f\"\"\"\r\n",
    "SELECT * FROM Songs WHERE likenessFactor = (SELECT likenessFactor FROM Songs WHERE songId = '{songId}') ORDER BY RAND() LIMIT 15;\r\n",
    "\"\"\")\r\n",
    "print_cursor(mycursor)"
   ],
   "outputs": [],
   "metadata": {}
  }
 ],
 "metadata": {
  "interpreter": {
   "hash": "fd021894311fc6ecb350d41b5f9ad0ba5dbd2a455558cf299f19c702323e1b01"
  },
  "kernelspec": {
   "name": "python3",
   "display_name": "Python 3.9.5 64-bit"
  },
  "language_info": {
   "codemirror_mode": {
    "name": "ipython",
    "version": 3
   },
   "file_extension": ".py",
   "mimetype": "text/x-python",
   "name": "python",
   "nbconvert_exporter": "python",
   "pygments_lexer": "ipython3",
   "version": "3.9.5"
  },
  "orig_nbformat": 4
 },
 "nbformat": 4,
 "nbformat_minor": 2
}